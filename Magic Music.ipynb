{
 "cells": [
  {
   "cell_type": "markdown",
   "metadata": {},
   "source": [
    "Installer magenta :\n",
    "https://github.com/tensorflow/magenta\n",
    "\n",
    "commande :\n",
    "\n",
    "curl https://raw.githubusercontent.com/tensorflow/magenta/master/magenta/tools/magenta-install.sh > /tmp/magenta-install.sh\n",
    "bash /tmp/magenta-install.sh\n"
   ]
  },
  {
   "cell_type": "markdown",
   "metadata": {},
   "source": [
    "### Polyphony RNN"
   ]
  },
  {
   "cell_type": "markdown",
   "metadata": {},
   "source": [
    "Apres avoir mis le notesquences.tfrecord dans le dossier ci-dessous\n",
    "In command prompt run :"
   ]
  },
  {
   "cell_type": "markdown",
   "metadata": {},
   "source": [
    "polyphony_rnn_create_dataset \\\n",
    "--input=/tmp/notesequences.tfrecord \\\n",
    "--output_dir=/tmp/polyphony_rnn/sequence_examples \\\n",
    "--eval_ratio=0.10"
   ]
  },
  {
   "cell_type": "markdown",
   "metadata": {},
   "source": [
    "Peut etre qu'il faut augmenter le nombre de training step a voir selon la loss"
   ]
  },
  {
   "cell_type": "markdown",
   "metadata": {},
   "source": [
    "polyphony_rnn_train \\\n",
    "--run_dir=/tmp/polyphony_rnn/logdir/run1 \\\n",
    "--sequence_example_file=/tmp/polyphony_rnn/sequence_examples/training_poly_tracks.tfrecord \\\n",
    "--hparams=\"batch_size=128,rnn_layer_sizes=[256,256,256]\" \\\n",
    "--num_training_steps=20000"
   ]
  },
  {
   "cell_type": "markdown",
   "metadata": {},
   "source": [
    "Genere 10 tracks avec les premiers pitchs ci-dessous"
   ]
  },
  {
   "cell_type": "markdown",
   "metadata": {},
   "source": [
    "polyphony_rnn_generate \\\n",
    "--run_dir=/tmp/polyphony_rnn/logdir/run1 \\\n",
    "--hparams=\"batch_size=64,rnn_layer_sizes=[64,64]\" \\\n",
    "--output_dir=/tmp/polyphony_rnn/generated \\\n",
    "--num_outputs=10 \\\n",
    "--num_steps=128 \\\n",
    "--primer_pitches=\"[67,64,60]\" \\\n",
    "--condition_on_primer=true \\\n",
    "--inject_primer_during_generation=false\n"
   ]
  },
  {
   "cell_type": "markdown",
   "metadata": {},
   "source": [
    "### Performance RNN"
   ]
  },
  {
   "cell_type": "code",
   "execution_count": null,
   "metadata": {},
   "outputs": [],
   "source": []
  }
 ],
 "metadata": {
  "kernelspec": {
   "display_name": "Python 3",
   "language": "python",
   "name": "python3"
  },
  "language_info": {
   "codemirror_mode": {
    "name": "ipython",
    "version": 3
   },
   "file_extension": ".py",
   "mimetype": "text/x-python",
   "name": "python",
   "nbconvert_exporter": "python",
   "pygments_lexer": "ipython3",
   "version": "3.6.5"
  }
 },
 "nbformat": 4,
 "nbformat_minor": 2
}
